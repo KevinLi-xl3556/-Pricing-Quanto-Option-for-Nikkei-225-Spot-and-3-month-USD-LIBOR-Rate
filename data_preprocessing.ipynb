{
 "cells": [
  {
   "cell_type": "code",
   "execution_count": 1,
   "id": "69894780",
   "metadata": {},
   "outputs": [],
   "source": [
    "import pandas as pd"
   ]
  },
  {
   "cell_type": "code",
   "execution_count": 9,
   "id": "17faeb5f",
   "metadata": {},
   "outputs": [],
   "source": [
    "# N225\n",
    "df = pd.read_csv(\"data/N225.csv\")\n",
    "\n",
    "# Keep only the \"Date\" and \"Close\" columns\n",
    "df = df[[\"Date\", \"Close\"]]\n",
    "\n",
    "# Save the modified dataframe back to the CSV file\n",
    "df.to_csv(\"preprocessed_data/N225_preprocessed.csv\", index=False)\n",
    "\n"
   ]
  },
  {
   "cell_type": "code",
   "execution_count": 5,
   "id": "323e9814",
   "metadata": {},
   "outputs": [],
   "source": [
    "# LIBOR_USD\n",
    "# Read the CSV file\n",
    "df1 = pd.read_csv(\"data/LIBOR_USD.csv\")\n",
    "\n",
    "# Keep only the \"Date\" and \"3M\" columns\n",
    "df1 = df1[[\"Date\", \"ThreeM\"]]\n",
    "\n",
    "# Save the modified dataframe back to the CSV file\n",
    "df1.to_csv(\"preprocessed_data/LIBOR_USD_preprocessed.csv\", index=False)\n",
    "\n"
   ]
  },
  {
   "cell_type": "code",
   "execution_count": 6,
   "id": "a1be95b7",
   "metadata": {},
   "outputs": [],
   "source": [
    "# Dollar-Yen\n",
    "df2 = pd.read_csv(\"data/dollar-yen-exchange-rate-historical-chart.csv\")\n",
    "\n",
    "# Convert the \"date\" column to datetime format\n",
    "df2['date'] = pd.to_datetime(df2['date'])\n",
    "\n",
    "# Filter the data for the desired date range\n",
    "start_date = pd.to_datetime('2020-01-06')\n",
    "end_date = pd.to_datetime('2022-12-30')\n",
    "filtered_df = df2[(df2['date'] >= start_date) & (df2['date'] <= end_date)]\n",
    "\n",
    "# Save the filtered dataframe to a new CSV file\n",
    "filtered_df.to_csv(\"preprocessed_data/dollar-yen-exchange-rate-preprocessed.csv\", index=False)\n",
    "\n"
   ]
  },
  {
   "cell_type": "code",
   "execution_count": 7,
   "id": "31263c40",
   "metadata": {},
   "outputs": [],
   "source": [
    "# Daily Treasury Rates\n",
    "df_2020 = pd.read_csv(\"data/daily-treasury-rates2020.csv\")\n",
    "df_2021 = pd.read_csv(\"data/daily-treasury-rates2021.csv\")\n",
    "df_2022 = pd.read_csv(\"data/daily-treasury-rates2022.csv\")\n",
    "\n",
    "# Concatenate the three dataframes\n",
    "combined_df = pd.concat([df_2020, df_2021, df_2022])\n",
    "\n",
    "# Keep only the \"Date\" and \"3 Mo\" columns\n",
    "combined_df = combined_df[[\"Date\", \"3 Mo\"]]\n",
    "\n",
    "# Convert the \"Date\" column to datetime format\n",
    "combined_df['Date'] = pd.to_datetime(combined_df['Date'])\n",
    "\n",
    "# Filter the data for the desired date range\n",
    "start_date = pd.to_datetime('2020-01-06')\n",
    "end_date = pd.to_datetime('2022-12-30')\n",
    "filtered_df = combined_df[(combined_df['Date'] >= start_date) & (combined_df['Date'] <= end_date)]\n",
    "\n",
    "# Sort the data by date\n",
    "sorted_df = filtered_df.sort_values('Date')\n",
    "\n",
    "# Save the sorted dataframe to a new CSV file\n",
    "sorted_df.to_csv(\"preprocessed_data/treasury-rates_preprocessed.csv\", index=False)\n",
    "\n",
    "\n"
   ]
  },
  {
   "cell_type": "code",
   "execution_count": 13,
   "id": "923fbd53",
   "metadata": {},
   "outputs": [
    {
     "name": "stdout",
     "output_type": "stream",
     "text": [
      "0.81\n"
     ]
    }
   ],
   "source": [
    "# 3 Month Short Rate\n",
    "df_2022 = pd.read_csv(\"data/3MRate_2022.csv\")\n",
    "df_2021 = pd.read_csv(\"data/3MRate_2021.csv\")\n",
    "df_2020 = pd.read_csv(\"data/3MRate_2020.csv\")\n",
    "\n",
    "# Concatenate the three dataframes\n",
    "combined_df = pd.concat([df_2022, df_2021, df_2020])\n",
    "\n",
    "# Convert the \"Date\" column to datetime format\n",
    "combined_df['Date'] = pd.to_datetime(combined_df['Date'])\n",
    "\n",
    "# Filter the data for the desired date range\n",
    "start_date = pd.to_datetime('2020-01-06')\n",
    "end_date = pd.to_datetime('2022-12-30')\n",
    "filtered_df = combined_df[(combined_df['Date'] >= start_date) & (combined_df['Date'] <= end_date)]\n",
    "\n",
    "# Keep only the \"Date\" and \"Close\" columns\n",
    "filtered_df = filtered_df[[\"Date\", \"Close\"]]\n",
    "\n",
    "# Sort the data by date\n",
    "sorted_df = filtered_df.sort_values('Date')\n",
    "sorted_df['Close'] = sorted_df['Close'].str.rstrip('%').astype(float)\n",
    "\n",
    "# Calculate the average of Close\n",
    "average_close = round(sorted_df['Close'].mean(), 2)\n",
    "\n",
    "# Print the average of Close\n",
    "print(average_close)\n",
    "\n",
    "# Save the sorted dataframe to a new CSV file\n",
    "sorted_df.to_csv(\"preprocessed_data/3MRates.csv\", index=False)\n"
   ]
  },
  {
   "cell_type": "code",
   "execution_count": null,
   "id": "cd58907b",
   "metadata": {},
   "outputs": [],
   "source": []
  }
 ],
 "metadata": {
  "kernelspec": {
   "display_name": "Python 3 (ipykernel)",
   "language": "python",
   "name": "python3"
  },
  "language_info": {
   "codemirror_mode": {
    "name": "ipython",
    "version": 3
   },
   "file_extension": ".py",
   "mimetype": "text/x-python",
   "name": "python",
   "nbconvert_exporter": "python",
   "pygments_lexer": "ipython3",
   "version": "3.9.13"
  }
 },
 "nbformat": 4,
 "nbformat_minor": 5
}
