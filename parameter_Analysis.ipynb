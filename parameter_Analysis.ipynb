{
 "cells": [
  {
   "cell_type": "code",
   "execution_count": 1,
   "id": "c2a1f75c-8bc1-4835-a2d7-c910696ede70",
   "metadata": {},
   "outputs": [
    {
     "name": "stdout",
     "output_type": "stream",
     "text": [
      "Nikkei-225 daily volatility: 0.013740562969702542\n",
      "USD-JPY exchange rate daily volatility: 0.00519939263836369\n",
      "Libor daily volatility: 0.03546174166625594\n",
      "Correlation between Nikkei-225 and exchange rate: 0.7745361023072755\n",
      "Correlation between Nikkei-225 and Libor rate: 0.6234974594548025\n",
      "T-Bond daily volatility: 0.20803601447114733\n"
     ]
    }
   ],
   "source": [
    "import numpy as np\n",
    "import pandas as pd\n",
    "from scipy.stats import pearsonr\n",
    "\n",
    "# Load and preprocess Nikkei-225 data\n",
    "nikkei_data = pd.read_csv('preprocessed_data/N225_preprocessed.csv', index_col='Date')\n",
    "nikkei_data.dropna(inplace=True)  # Remove invalid data\n",
    "nikkei_data.sort_index(ascending=False, inplace=True)  # Sort in descending order\n",
    "nikkei_data['returns'] = np.log(nikkei_data.Close / nikkei_data.Close.shift(-1))  # Calculate daily returns\n",
    "nikkei_volatility = np.std(nikkei_data.returns)\n",
    "print(f\"Nikkei-225 daily volatility: {nikkei_volatility}\")\n",
    "\n",
    "# Load and preprocess USD-JPY exchange rate data\n",
    "exchange_data = pd.read_csv('preprocessed_data/dollar-yen-exchange-rate-preprocessed.csv', index_col='date')\n",
    "exchange_data.sort_index(ascending=False, inplace=True)\n",
    "exchange_data.rename(columns={' value': 'value'}, inplace=True)\n",
    "exchange_data['returns'] = np.log(exchange_data.value / exchange_data.value.shift(-1))  # Calculate daily returns\n",
    "exchange_volatility = np.std(exchange_data.returns)\n",
    "print(f\"USD-JPY exchange rate daily volatility: {exchange_volatility}\")\n",
    "\n",
    "# Load and preprocess Libor data\n",
    "libor_data = pd.read_csv('preprocessed_data/LIBOR_USD_preprocessed.csv', index_col='Date')\n",
    "libor_data['returns'] = np.log(libor_data['ThreeM'] / libor_data['ThreeM'].shift(-1))  # Calculate daily returns\n",
    "libor_volatility = np.std(libor_data.returns)\n",
    "print(f\"Libor daily volatility: {libor_volatility}\")\n",
    "\n",
    "# Calculate correlations\n",
    "libor_returns = libor_data.returns.dropna()\n",
    "libor_returns = libor_returns[0:730]\n",
    "nikkei_returns = nikkei_data.returns.dropna()\n",
    "exchange_returns = exchange_data.returns[0:730]\n",
    "\n",
    "correlation_nikkei_exchange = pearsonr(nikkei_returns, exchange_returns)\n",
    "print(f\"Correlation between Nikkei-225 and exchange rate: {correlation_nikkei_exchange[1]}\")\n",
    "\n",
    "correlation_nikkei_libor = pearsonr(nikkei_returns, libor_returns)\n",
    "print(f\"Correlation between Nikkei-225 and Libor rate: {correlation_nikkei_libor[1]}\")\n",
    "\n",
    "# Load and preprocess Treasury Bond data\n",
    "t_bond_data = pd.read_csv('preprocessed_data/treasury-rates_preprocessed.csv', index_col='Date')\n",
    "t_bond_data = t_bond_data[t_bond_data['3 Mo'] != 0]  # Remove invalid data\n",
    "t_bond_data['returns'] = np.log(t_bond_data['3 Mo'] / t_bond_data['3 Mo'].shift(-1))  # Calculate daily returns\n",
    "t_bond_volatility = np.std(t_bond_data.returns)\n",
    "print(f\"T-Bond daily volatility: {t_bond_volatility}\")\n",
    "\n",
    "\n",
    "\n"
   ]
  },
  {
   "cell_type": "code",
   "execution_count": null,
   "id": "f36af4d8",
   "metadata": {},
   "outputs": [],
   "source": []
  }
 ],
 "metadata": {
  "kernelspec": {
   "display_name": "Python 3 (ipykernel)",
   "language": "python",
   "name": "python3"
  },
  "language_info": {
   "codemirror_mode": {
    "name": "ipython",
    "version": 3
   },
   "file_extension": ".py",
   "mimetype": "text/x-python",
   "name": "python",
   "nbconvert_exporter": "python",
   "pygments_lexer": "ipython3",
   "version": "3.9.6"
  }
 },
 "nbformat": 4,
 "nbformat_minor": 5
}
